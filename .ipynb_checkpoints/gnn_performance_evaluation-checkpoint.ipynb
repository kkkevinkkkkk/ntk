{
 "cells": [
  {
   "cell_type": "markdown",
   "id": "e2be09a2",
   "metadata": {},
   "source": [
    "# Experiment 1: Compare Similarity"
   ]
  },
  {
   "cell_type": "code",
   "execution_count": 1,
   "id": "c6b21728",
   "metadata": {},
   "outputs": [],
   "source": [
    "%load_ext autoreload\n",
    "%autoreload 2"
   ]
  },
  {
   "cell_type": "code",
   "execution_count": 2,
   "id": "e0938be8",
   "metadata": {},
   "outputs": [],
   "source": [
    "from tqdm import tqdm\n",
    "import torch\n",
    "import numpy as np\n",
    "import pandas as pd\n",
    "from itertools import product\n",
    "from models import GNNClassifier, GNNSim\n",
    "from torch_geometric.datasets import TUDataset\n",
    "from torch_geometric.data import DataLoader\n",
    "import os"
   ]
  },
  {
   "cell_type": "code",
   "execution_count": 3,
   "id": "1d3b4595",
   "metadata": {},
   "outputs": [],
   "source": [
    "# import util\n",
    "# graphs, _ = util.load_data(\"MUTAG\", degree_as_tag=False)"
   ]
  },
  {
   "cell_type": "code",
   "execution_count": 4,
   "id": "2f6ebf69",
   "metadata": {},
   "outputs": [
    {
     "name": "stderr",
     "output_type": "stream",
     "text": [
      "/opt/homebrew/Caskroom/miniforge/base/lib/python3.9/site-packages/torch_geometric/deprecation.py:12: UserWarning: 'data.DataLoader' is deprecated, use 'loader.DataLoader' instead\n",
      "  warnings.warn(out)\n"
     ]
    }
   ],
   "source": [
    "random_state = 1\n",
    "batch_size = 1\n",
    "\n",
    "device = torch.device(\"cuda\" if torch.cuda.is_available() else \"cpu\")\n",
    "torch.manual_seed(random_state)\n",
    "# torch.cuda.manual_seed(random_state)\n",
    "np.random.seed(random_state)\n",
    "\n",
    "path = os.path.join('./', 'data', 'TU')\n",
    "# dataset = TUDataset(path, name='MUTAG').shuffle()\n",
    "dataset = TUDataset(path, name='MUTAG')\n",
    "test_dataset = dataset[:len(dataset) // 10]\n",
    "train_dataset = dataset[len(dataset) // 10:]\n",
    "test_dataloader = DataLoader(test_dataset, batch_size=batch_size)\n",
    "train_dataloader = DataLoader(train_dataset, batch_size=batch_size)\n",
    "\n",
    "M = 5\n",
    "dataloader = DataLoader(dataset[:M], batch_size=1, shuffle=False)"
   ]
  },
  {
   "cell_type": "code",
   "execution_count": 5,
   "id": "b02b9b65",
   "metadata": {},
   "outputs": [],
   "source": [
    "import networkx as nx\n",
    "from util import S2VGraph\n",
    "\n",
    "def map_dataloader_to_graphs(dataloader):\n",
    "    graphs = []\n",
    "    for data in dataloader:\n",
    "        g = nx.Graph()\n",
    "        label = data.y\n",
    "        node_tags = None\n",
    "        # add node\n",
    "        for j in range(data.x.shape[0]):\n",
    "            g.add_node(j)\n",
    "        # add edge\n",
    "        for i in range(data.edge_index.shape[-1]):\n",
    "            node_a, node_b = data.edge_index[0][i].item(), data.edge_index[1][i].item()\n",
    "            g.add_edge(node_a, node_b)\n",
    "        s2v_graph = S2VGraph(g, label, node_tags)\n",
    "        s2v_graph.node_features = data.x\n",
    "        graphs.append(s2v_graph)\n",
    "    \n",
    "    \n",
    "    for g in graphs:\n",
    "        g.neighbors = [[] for i in range(len(g.g))]\n",
    "        for i, j in g.g.edges():\n",
    "            g.neighbors[i].append(j)\n",
    "            g.neighbors[j].append(i)\n",
    "        degree_list = []\n",
    "        for i in range(len(g.g)):\n",
    "            g.neighbors[i] = g.neighbors[i]\n",
    "            degree_list.append(len(g.neighbors[i]))\n",
    "        g.max_neighbor = max(degree_list)\n",
    "\n",
    "    return graphs\n",
    "\n",
    "\n",
    "graphs = map_dataloader_to_graphs(dataloader)"
   ]
  },
  {
   "cell_type": "code",
   "execution_count": 6,
   "id": "8c7939a3",
   "metadata": {
    "scrolled": true
   },
   "outputs": [],
   "source": [
    "from kernels import calculate_inf_gntk\n",
    "gram = calculate_inf_gntk(graphs)"
   ]
  },
  {
   "cell_type": "code",
   "execution_count": 7,
   "id": "dc3d8dc7",
   "metadata": {},
   "outputs": [],
   "source": [
    "def clone_grads(net):\n",
    "    d = {}\n",
    "    for name, p in net.named_parameters():\n",
    "        if p.grad is not None:\n",
    "            d[name] = p.grad.clone().detach()\n",
    "    return d\n",
    "\n",
    "def paramdot(d1, d2):\n",
    "    return sum(\n",
    "        torch.dot(d1[k].reshape(-1), d2[k].reshape(-1))\n",
    "        for k in d1)\n",
    "def normalize_matrix(matrix):\n",
    "    m = np.max(matrix)\n",
    "    out = matrix / m\n",
    "    return out"
   ]
  },
  {
   "cell_type": "code",
   "execution_count": 8,
   "id": "24047f01",
   "metadata": {},
   "outputs": [],
   "source": [
    "model_config = {}\n",
    "model_config[\"input_dim\"] = 7\n",
    "model_config[\"hidden_dim\"] = 32\n",
    "model_config[\"output_dim\"] = 32\n",
    "model_config[\"n_class\"] = 2\n",
    "model_config[\"c_u\"] = 1\n",
    "model_config[\"c_sigma\"] = 2\n",
    "model_config[\"num_layers\"] = 2\n",
    "learning_rate = 0.001\n",
    "epochs = 100"
   ]
  },
  {
   "cell_type": "code",
   "execution_count": 9,
   "id": "b4ed6e65",
   "metadata": {},
   "outputs": [
    {
     "name": "stderr",
     "output_type": "stream",
     "text": [
      "  5%|██                                      | 50/1000 [00:00<00:05, 164.11it/s]/var/folders/qh/3jndncm93jb1gybw7l3jf2p80000gn/T/ipykernel_8397/2441349998.py:14: RuntimeWarning: invalid value encountered in true_divide\n",
      "  out = matrix / m\n",
      "100%|███████████████████████████████████████| 1000/1000 [00:21<00:00, 46.77it/s]\n"
     ]
    }
   ],
   "source": [
    "nseeds = 100\n",
    "log2_width_min = 2\n",
    "log2_width_max = 12\n",
    "widths = 2**np.arange(log2_width_min, log2_width_max)\n",
    "\n",
    "M = len(dataloader)\n",
    "inf_ntk = gram\n",
    "\n",
    "inf_ntk_norm = np.linalg.norm(inf_ntk)\n",
    "inf_ntk_normalize = normalize_matrix(inf_ntk)\n",
    "\n",
    "\n",
    "frobs = []\n",
    "\n",
    "for width, seed in tqdm(list(product(widths, range(nseeds)))):\n",
    "    torch.manual_seed(seed)\n",
    "    model_config[\"hidden_dim\"] = model_config[\"output_dim\"] = width\n",
    "    model = GNNSim(model_config)\n",
    "    \n",
    "    grads = []\n",
    "    \n",
    "    for graph in dataloader:\n",
    "        model.zero_grad()\n",
    "        loss = model(graph)\n",
    "        loss.backward()\n",
    "        grads.append(clone_grads(model))\n",
    "    \n",
    "    finite_ntk = np.zeros((M,M))\n",
    "    for i in range(M):\n",
    "        for j in range(i+1):\n",
    "            finite_ntk[i, j] = finite_ntk[j, i] = paramdot(grads[i], grads[j])\n",
    "    \n",
    "    finite_ntk_normalize = normalize_matrix(finite_ntk)\n",
    "    \n",
    "    frobs.append(dict(\n",
    "        width = width, \n",
    "        finite_ntk = finite_ntk_normalize ,\n",
    "        relfrob=np.linalg.norm(finite_ntk_normalize-inf_ntk_normalize)/inf_ntk_norm))\n",
    "\n",
    "frob_df = pd.DataFrame(frobs) \n"
   ]
  },
  {
   "cell_type": "code",
   "execution_count": 13,
   "id": "4790d5c1",
   "metadata": {},
   "outputs": [
    {
     "data": {
      "image/png": "[encoded data removed]",
      "text/plain": [
       "<Figure size 432x288 with 1 Axes>"
      ]
     },
     "metadata": {
      "needs_background": "light"
     },
     "output_type": "display_data"
    }
   ],
   "source": [
    "import seaborn as sns\n",
    "import matplotlib.pyplot as plt\n",
    "\n",
    "sns.lineplot(data=frob_df, x='width', y='relfrob')\n",
    "widths = frob_df.width.unique()\n",
    "plt.plot(widths, np.array(widths, dtype='float')**-0.5, '--', label=u'${width}^{-1/2}$')\n",
    "plt.ylabel(u'Relative Frob. Norm')\n",
    "plt.loglog()\n",
    "# plt.xscale('log')\n",
    "plt.legend()\n",
    "_ = plt.title(u'GNN NTK\\nDeviation from theory drops like $width^{-1/2}$')"
   ]
  },
  {
   "cell_type": "code",
   "execution_count": null,
   "id": "1249cef4",
   "metadata": {},
   "outputs": [],
   "source": []
  }
 ],
 "metadata": {
  "kernelspec": {
   "display_name": "Python 3 (ipykernel)",
   "language": "python",
   "name": "python3"
  },
  "language_info": {
   "codemirror_mode": {
    "name": "ipython",
    "version": 3
   },
   "file_extension": ".py",
   "mimetype": "text/x-python",
   "name": "python",
   "nbconvert_exporter": "python",
   "pygments_lexer": "ipython3",
   "version": "3.9.10"
  }
 },
 "nbformat": 4,
 "nbformat_minor": 5
}
