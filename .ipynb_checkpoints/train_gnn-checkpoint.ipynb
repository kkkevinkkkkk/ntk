{
 "cells": [
  {
   "cell_type": "code",
   "execution_count": 1,
   "id": "1cc975e2",
   "metadata": {},
   "outputs": [],
   "source": [
    "%load_ext autoreload\n",
    "%autoreload 2"
   ]
  },
  {
   "cell_type": "code",
   "execution_count": 2,
   "id": "b23539c6",
   "metadata": {},
   "outputs": [],
   "source": [
    "from models import GNNClassifier\n",
    "import torch\n",
    "import numpy as np\n",
    "import util\n",
    "import scipy\n",
    "from torch_geometric.datasets import TUDataset\n",
    "from torch_geometric.data import DataLoader\n",
    "import os"
   ]
  },
  {
   "cell_type": "code",
   "execution_count": 13,
   "id": "d60d6931",
   "metadata": {},
   "outputs": [
    {
     "name": "stderr",
     "output_type": "stream",
     "text": [
      "/Users/k/opt/anaconda3/lib/python3.9/site-packages/torch_geometric/deprecation.py:12: UserWarning: 'data.DataLoader' is deprecated, use 'loader.DataLoader' instead\n",
      "  warnings.warn(out)\n"
     ]
    }
   ],
   "source": [
    "random_state = 1\n",
    "batch_size = 32\n",
    "\n",
    "device = torch.device(\"cuda\" if torch.cuda.is_available() else \"cpu\")\n",
    "torch.manual_seed(random_state)\n",
    "# torch.cuda.manual_seed(random_state)\n",
    "np.random.seed(random_state)\n",
    "\n",
    "path = os.path.join('./', 'data', 'TU')\n",
    "dataset = TUDataset(path, name='MUTAG').shuffle()\n",
    "test_dataset = dataset[:len(dataset) // 10]\n",
    "train_dataset = dataset[len(dataset) // 10:]\n",
    "test_dataloader = DataLoader(test_dataset, batch_size=batch_size)\n",
    "train_dataloader = DataLoader(train_dataset, batch_size=batch_size)"
   ]
  },
  {
   "cell_type": "code",
   "execution_count": 14,
   "id": "b70734ed",
   "metadata": {},
   "outputs": [
    {
     "name": "stdout",
     "output_type": "stream",
     "text": [
      "Epoch: 001, train_loss: 0.8469, train_acc: 0.3294, test_acc: 0.3889\n",
      "Epoch: 002, train_loss: 0.8368, train_acc: 0.3294, test_acc: 0.3889\n",
      "Epoch: 003, train_loss: 0.8316, train_acc: 0.3294, test_acc: 0.3889\n",
      "Epoch: 004, train_loss: 0.8249, train_acc: 0.3294, test_acc: 0.3889\n",
      "Epoch: 005, train_loss: 0.8160, train_acc: 0.3294, test_acc: 0.3889\n",
      "Epoch: 006, train_loss: 0.8022, train_acc: 0.3294, test_acc: 0.3889\n",
      "Epoch: 007, train_loss: 0.7975, train_acc: 0.3294, test_acc: 0.3889\n",
      "Epoch: 008, train_loss: 0.7935, train_acc: 0.3294, test_acc: 0.3889\n",
      "Epoch: 009, train_loss: 0.7804, train_acc: 0.3294, test_acc: 0.3889\n",
      "Epoch: 010, train_loss: 0.7801, train_acc: 0.3294, test_acc: 0.3889\n",
      "Epoch: 011, train_loss: 0.7722, train_acc: 0.3294, test_acc: 0.3889\n",
      "Epoch: 012, train_loss: 0.7674, train_acc: 0.3294, test_acc: 0.3889\n",
      "Epoch: 013, train_loss: 0.7624, train_acc: 0.3294, test_acc: 0.3889\n",
      "Epoch: 014, train_loss: 0.7596, train_acc: 0.3294, test_acc: 0.3889\n",
      "Epoch: 015, train_loss: 0.7484, train_acc: 0.3294, test_acc: 0.3889\n",
      "Epoch: 016, train_loss: 0.7448, train_acc: 0.3294, test_acc: 0.3889\n",
      "Epoch: 017, train_loss: 0.7404, train_acc: 0.3294, test_acc: 0.3889\n",
      "Epoch: 018, train_loss: 0.7354, train_acc: 0.3294, test_acc: 0.3889\n",
      "Epoch: 019, train_loss: 0.7323, train_acc: 0.3294, test_acc: 0.3889\n",
      "Epoch: 020, train_loss: 0.7276, train_acc: 0.3294, test_acc: 0.3889\n",
      "Epoch: 021, train_loss: 0.7176, train_acc: 0.3294, test_acc: 0.3889\n",
      "Epoch: 022, train_loss: 0.7173, train_acc: 0.3294, test_acc: 0.3889\n",
      "Epoch: 023, train_loss: 0.7136, train_acc: 0.3294, test_acc: 0.3889\n",
      "Epoch: 024, train_loss: 0.7052, train_acc: 0.3294, test_acc: 0.3889\n",
      "Epoch: 025, train_loss: 0.7032, train_acc: 0.3294, test_acc: 0.3889\n",
      "Epoch: 026, train_loss: 0.7005, train_acc: 0.3529, test_acc: 0.3889\n",
      "Epoch: 027, train_loss: 0.6955, train_acc: 0.4059, test_acc: 0.5556\n",
      "Epoch: 028, train_loss: 0.6907, train_acc: 0.5000, test_acc: 0.5556\n",
      "Epoch: 029, train_loss: 0.6870, train_acc: 0.6059, test_acc: 0.5556\n",
      "Epoch: 030, train_loss: 0.6824, train_acc: 0.7471, test_acc: 0.6667\n",
      "Epoch: 031, train_loss: 0.6820, train_acc: 0.7588, test_acc: 0.7778\n",
      "Epoch: 032, train_loss: 0.6761, train_acc: 0.8529, test_acc: 0.8889\n",
      "Epoch: 033, train_loss: 0.6745, train_acc: 0.8294, test_acc: 0.8333\n",
      "Epoch: 034, train_loss: 0.6697, train_acc: 0.8294, test_acc: 0.8333\n",
      "Epoch: 035, train_loss: 0.6708, train_acc: 0.8059, test_acc: 0.8889\n",
      "Epoch: 036, train_loss: 0.6656, train_acc: 0.7588, test_acc: 0.8333\n",
      "Epoch: 037, train_loss: 0.6606, train_acc: 0.7353, test_acc: 0.8889\n",
      "Epoch: 038, train_loss: 0.6570, train_acc: 0.7000, test_acc: 0.7222\n",
      "Epoch: 039, train_loss: 0.6549, train_acc: 0.6765, test_acc: 0.6667\n",
      "Epoch: 040, train_loss: 0.6530, train_acc: 0.6706, test_acc: 0.6111\n",
      "Epoch: 041, train_loss: 0.6510, train_acc: 0.6706, test_acc: 0.6111\n",
      "Epoch: 042, train_loss: 0.6509, train_acc: 0.6706, test_acc: 0.6111\n",
      "Epoch: 043, train_loss: 0.6480, train_acc: 0.6706, test_acc: 0.6111\n",
      "Epoch: 044, train_loss: 0.6440, train_acc: 0.6706, test_acc: 0.6111\n",
      "Epoch: 045, train_loss: 0.6405, train_acc: 0.6706, test_acc: 0.6111\n",
      "Epoch: 046, train_loss: 0.6384, train_acc: 0.6706, test_acc: 0.6111\n",
      "Epoch: 047, train_loss: 0.6368, train_acc: 0.6706, test_acc: 0.6111\n",
      "Epoch: 048, train_loss: 0.6359, train_acc: 0.6706, test_acc: 0.6111\n",
      "Epoch: 049, train_loss: 0.6334, train_acc: 0.6706, test_acc: 0.6111\n",
      "Epoch: 050, train_loss: 0.6300, train_acc: 0.6706, test_acc: 0.6111\n"
     ]
    }
   ],
   "source": [
    "from sklearn.metrics import accuracy_score\n",
    "\n",
    "def train(model, optimizer, dataloader, device):\n",
    "    model.train()\n",
    "\n",
    "    total_loss = 0\n",
    "    for data in dataloader:\n",
    "        data = data.to(device)\n",
    "        optimizer.zero_grad()\n",
    "        loss = model.get_loss(data)\n",
    "        \n",
    "        loss.backward()\n",
    "        total_loss += data.num_graphs * loss.item()\n",
    "        optimizer.step()\n",
    "        \n",
    "    return total_loss / len(train_dataset)\n",
    "\n",
    "def test(model, dataloader, device):\n",
    "    model.eval()\n",
    "\n",
    "    predictions = []\n",
    "    labels = []\n",
    "\n",
    "    with torch.no_grad():\n",
    "        for data in dataloader:\n",
    "\n",
    "            data = data.to(device)\n",
    "            pred = model.predict(data).detach().cpu().numpy()\n",
    "\n",
    "            label = data.y.detach().cpu().numpy()\n",
    "            predictions.extend(pred)\n",
    "            labels.extend(label)\n",
    "    total_acc = accuracy_score(predictions, labels)\n",
    "    return total_acc\n",
    "    \n",
    "\n",
    "model_config = {}\n",
    "model_config[\"input_dim\"] = 7\n",
    "model_config[\"hidden_dim\"] = 32\n",
    "model_config[\"output_dim\"] = 32\n",
    "model_config[\"n_class\"] = 2\n",
    "model_config[\"c_u\"] = 1\n",
    "model_config[\"c_sigma\"] = 2\n",
    "model_config[\"num_layers\"] = 2\n",
    "learning_rate = 0.001\n",
    "epochs = 50\n",
    "\n",
    "model = GNNClassifier(model_config)\n",
    "optimizer = torch.optim.SGD(model.parameters(), lr=learning_rate)\n",
    "\n",
    "model = model.to(device)\n",
    "for epoch in range(1, epochs + 1):\n",
    "    train_loss = train(model, optimizer, train_dataloader, device)\n",
    "    train_acc = test(model, train_dataloader, device)\n",
    "    test_acc = test(model, test_dataloader, device)\n",
    "    print('Epoch: {:03d}, train_loss: {:.4f}, train_acc: {:.4f}, test_acc: {:.4f}'.format(epoch, train_loss, train_acc, test_acc))\n",
    "    "
   ]
  },
  {
   "cell_type": "code",
   "execution_count": 6,
   "id": "acc60ef2",
   "metadata": {},
   "outputs": [
    {
     "name": "stdout",
     "output_type": "stream",
     "text": [
      "blocks.0.conv.lin.weight : torch.Size([32, 7])\n",
      "blocks.0.conv.lin.bias : torch.Size([32])\n",
      "blocks.1.conv.lin.weight : torch.Size([32, 32])\n",
      "blocks.1.conv.lin.bias : torch.Size([32])\n",
      "mlp.weight : torch.Size([2, 32])\n",
      "mlp.bias : torch.Size([2])\n"
     ]
    }
   ],
   "source": [
    "for name, parameters in model.named_parameters():\n",
    "    print(name, ':', parameters.size())"
   ]
  },
  {
   "cell_type": "code",
   "execution_count": null,
   "id": "d9dff460",
   "metadata": {},
   "outputs": [],
   "source": []
  }
 ],
 "metadata": {
  "kernelspec": {
   "display_name": "Python 3 (ipykernel)",
   "language": "python",
   "name": "python3"
  },
  "language_info": {
   "codemirror_mode": {
    "name": "ipython",
    "version": 3
   },
   "file_extension": ".py",
   "mimetype": "text/x-python",
   "name": "python",
   "nbconvert_exporter": "python",
   "pygments_lexer": "ipython3",
   "version": "3.9.7"
  }
 },
 "nbformat": 4,
 "nbformat_minor": 5
}
