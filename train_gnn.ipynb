{
 "cells": [
  {
   "cell_type": "code",
   "execution_count": 23,
   "id": "1cc975e2",
   "metadata": {},
   "outputs": [
    {
     "name": "stdout",
     "output_type": "stream",
     "text": [
      "The autoreload extension is already loaded. To reload it, use:\n",
      "  %reload_ext autoreload\n"
     ]
    }
   ],
   "source": [
    "%load_ext autoreload\n",
    "%autoreload 2"
   ]
  },
  {
   "cell_type": "code",
   "execution_count": 24,
   "id": "b23539c6",
   "metadata": {},
   "outputs": [],
   "source": [
    "from models import GNNClassifier\n",
    "import torch\n",
    "import numpy as np\n",
    "import util\n",
    "import scipy\n",
    "from torch_geometric.datasets import TUDataset\n",
    "from torch_geometric.data import DataLoader\n",
    "import os"
   ]
  },
  {
   "cell_type": "code",
   "execution_count": 25,
   "id": "84ec3d42",
   "metadata": {},
   "outputs": [
    {
     "name": "stderr",
     "output_type": "stream",
     "text": [
      "/Users/k/opt/anaconda3/lib/python3.9/site-packages/torch_geometric/deprecation.py:12: UserWarning: 'data.DataLoader' is deprecated, use 'loader.DataLoader' instead\n",
      "  warnings.warn(out)\n"
     ]
    }
   ],
   "source": [
    "random_state = 1\n",
    "batch_size = 1\n",
    "\n",
    "device = torch.device(\"cuda\" if torch.cuda.is_available() else \"cpu\")\n",
    "torch.manual_seed(random_state)\n",
    "# torch.cuda.manual_seed(random_state)\n",
    "np.random.seed(random_state)\n",
    "\n",
    "path = os.path.join('./', 'data', 'TU')\n",
    "dataset = TUDataset(path, name='MUTAG').shuffle()\n",
    "test_dataset = dataset[:len(dataset) // 10]\n",
    "train_dataset = dataset[len(dataset) // 10:]\n",
    "test_dataloader = DataLoader(test_dataset, batch_size=batch_size)\n",
    "train_dataloader = DataLoader(train_dataset, batch_size=batch_size)"
   ]
  },
  {
   "cell_type": "code",
   "execution_count": 57,
   "id": "b70734ed",
   "metadata": {},
   "outputs": [
    {
     "name": "stdout",
     "output_type": "stream",
     "text": [
      "Epoch: 001, train_loss: 0.6301, train_acc: 0.6706, test_acc: 0.6111\n",
      "Epoch: 002, train_loss: 0.5770, train_acc: 0.6706, test_acc: 0.6111\n",
      "Epoch: 003, train_loss: 0.5705, train_acc: 0.6706, test_acc: 0.6111\n",
      "Epoch: 004, train_loss: 0.5682, train_acc: 0.6706, test_acc: 0.6111\n",
      "Epoch: 005, train_loss: 0.5717, train_acc: 0.6706, test_acc: 0.6111\n",
      "Epoch: 006, train_loss: 0.5643, train_acc: 0.6706, test_acc: 0.6111\n",
      "Epoch: 007, train_loss: 0.5608, train_acc: 0.6706, test_acc: 0.6111\n",
      "Epoch: 008, train_loss: 0.5465, train_acc: 0.6706, test_acc: 0.6111\n",
      "Epoch: 009, train_loss: 0.5509, train_acc: 0.6706, test_acc: 0.6111\n",
      "Epoch: 010, train_loss: 0.5388, train_acc: 0.6706, test_acc: 0.6111\n",
      "Epoch: 011, train_loss: 0.5465, train_acc: 0.6706, test_acc: 0.6111\n",
      "Epoch: 012, train_loss: 0.5286, train_acc: 0.6706, test_acc: 0.6111\n",
      "Epoch: 013, train_loss: 0.5296, train_acc: 0.6706, test_acc: 0.6111\n",
      "Epoch: 014, train_loss: 0.5217, train_acc: 0.6706, test_acc: 0.6111\n",
      "Epoch: 015, train_loss: 0.5227, train_acc: 0.6706, test_acc: 0.6111\n",
      "Epoch: 016, train_loss: 0.5205, train_acc: 0.6706, test_acc: 0.6111\n",
      "Epoch: 017, train_loss: 0.5150, train_acc: 0.6706, test_acc: 0.6111\n",
      "Epoch: 018, train_loss: 0.5268, train_acc: 0.6706, test_acc: 0.6111\n",
      "Epoch: 019, train_loss: 0.5165, train_acc: 0.6706, test_acc: 0.6111\n",
      "Epoch: 020, train_loss: 0.5055, train_acc: 0.6765, test_acc: 0.6111\n",
      "Epoch: 021, train_loss: 0.5086, train_acc: 0.6765, test_acc: 0.6111\n",
      "Epoch: 022, train_loss: 0.5096, train_acc: 0.6765, test_acc: 0.6111\n",
      "Epoch: 023, train_loss: 0.5048, train_acc: 0.6765, test_acc: 0.6111\n",
      "Epoch: 024, train_loss: 0.4970, train_acc: 0.6765, test_acc: 0.6111\n",
      "Epoch: 025, train_loss: 0.4943, train_acc: 0.6706, test_acc: 0.6111\n",
      "Epoch: 026, train_loss: 0.5009, train_acc: 0.6882, test_acc: 0.6111\n",
      "Epoch: 027, train_loss: 0.4962, train_acc: 0.6765, test_acc: 0.6111\n",
      "Epoch: 028, train_loss: 0.4859, train_acc: 0.6941, test_acc: 0.6111\n",
      "Epoch: 029, train_loss: 0.4955, train_acc: 0.7059, test_acc: 0.6667\n",
      "Epoch: 030, train_loss: 0.4800, train_acc: 0.7118, test_acc: 0.7222\n",
      "Epoch: 031, train_loss: 0.4886, train_acc: 0.7176, test_acc: 0.7222\n",
      "Epoch: 032, train_loss: 0.4783, train_acc: 0.7176, test_acc: 0.7778\n",
      "Epoch: 033, train_loss: 0.4829, train_acc: 0.7235, test_acc: 0.7778\n",
      "Epoch: 034, train_loss: 0.4674, train_acc: 0.7235, test_acc: 0.7778\n",
      "Epoch: 035, train_loss: 0.4627, train_acc: 0.7353, test_acc: 0.7778\n",
      "Epoch: 036, train_loss: 0.4875, train_acc: 0.7412, test_acc: 0.7778\n",
      "Epoch: 037, train_loss: 0.4797, train_acc: 0.7471, test_acc: 0.7778\n",
      "Epoch: 038, train_loss: 0.4671, train_acc: 0.7471, test_acc: 0.7778\n",
      "Epoch: 039, train_loss: 0.4606, train_acc: 0.7471, test_acc: 0.7778\n",
      "Epoch: 040, train_loss: 0.4585, train_acc: 0.7765, test_acc: 0.8333\n",
      "Epoch: 041, train_loss: 0.4666, train_acc: 0.7765, test_acc: 0.8333\n",
      "Epoch: 042, train_loss: 0.4569, train_acc: 0.7765, test_acc: 0.8333\n",
      "Epoch: 043, train_loss: 0.4672, train_acc: 0.7765, test_acc: 0.8333\n",
      "Epoch: 044, train_loss: 0.4595, train_acc: 0.7824, test_acc: 0.8333\n",
      "Epoch: 045, train_loss: 0.4593, train_acc: 0.7765, test_acc: 0.8333\n",
      "Epoch: 046, train_loss: 0.4516, train_acc: 0.7824, test_acc: 0.8333\n",
      "Epoch: 047, train_loss: 0.4446, train_acc: 0.7765, test_acc: 0.8333\n",
      "Epoch: 048, train_loss: 0.4516, train_acc: 0.7824, test_acc: 0.8333\n",
      "Epoch: 049, train_loss: 0.4588, train_acc: 0.7882, test_acc: 0.8333\n",
      "Epoch: 050, train_loss: 0.4544, train_acc: 0.7882, test_acc: 0.8333\n",
      "Epoch: 051, train_loss: 0.4538, train_acc: 0.7882, test_acc: 0.8333\n",
      "Epoch: 052, train_loss: 0.4622, train_acc: 0.7941, test_acc: 0.8333\n",
      "Epoch: 053, train_loss: 0.4524, train_acc: 0.7941, test_acc: 0.8333\n",
      "Epoch: 054, train_loss: 0.4423, train_acc: 0.7882, test_acc: 0.8333\n",
      "Epoch: 055, train_loss: 0.4517, train_acc: 0.7941, test_acc: 0.8333\n",
      "Epoch: 056, train_loss: 0.4426, train_acc: 0.7941, test_acc: 0.8333\n",
      "Epoch: 057, train_loss: 0.4447, train_acc: 0.8176, test_acc: 0.8333\n",
      "Epoch: 058, train_loss: 0.4578, train_acc: 0.8235, test_acc: 0.8333\n",
      "Epoch: 059, train_loss: 0.4377, train_acc: 0.7941, test_acc: 0.8333\n",
      "Epoch: 060, train_loss: 0.4311, train_acc: 0.8176, test_acc: 0.8333\n",
      "Epoch: 061, train_loss: 0.4394, train_acc: 0.8176, test_acc: 0.8333\n",
      "Epoch: 062, train_loss: 0.4447, train_acc: 0.8000, test_acc: 0.8333\n",
      "Epoch: 063, train_loss: 0.4402, train_acc: 0.8059, test_acc: 0.8333\n",
      "Epoch: 064, train_loss: 0.4352, train_acc: 0.8294, test_acc: 0.8333\n",
      "Epoch: 065, train_loss: 0.4339, train_acc: 0.8294, test_acc: 0.8333\n",
      "Epoch: 066, train_loss: 0.4527, train_acc: 0.8294, test_acc: 0.8333\n",
      "Epoch: 067, train_loss: 0.4386, train_acc: 0.8235, test_acc: 0.8333\n",
      "Epoch: 068, train_loss: 0.4316, train_acc: 0.8235, test_acc: 0.8333\n",
      "Epoch: 069, train_loss: 0.4296, train_acc: 0.8176, test_acc: 0.8333\n",
      "Epoch: 070, train_loss: 0.4461, train_acc: 0.8294, test_acc: 0.8333\n",
      "Epoch: 071, train_loss: 0.4440, train_acc: 0.8294, test_acc: 0.8333\n",
      "Epoch: 072, train_loss: 0.4236, train_acc: 0.8471, test_acc: 0.8333\n",
      "Epoch: 073, train_loss: 0.4369, train_acc: 0.8235, test_acc: 0.8333\n",
      "Epoch: 074, train_loss: 0.4231, train_acc: 0.8294, test_acc: 0.8333\n",
      "Epoch: 075, train_loss: 0.4317, train_acc: 0.8294, test_acc: 0.8333\n",
      "Epoch: 076, train_loss: 0.4204, train_acc: 0.8471, test_acc: 0.8333\n",
      "Epoch: 077, train_loss: 0.4311, train_acc: 0.8294, test_acc: 0.8333\n",
      "Epoch: 078, train_loss: 0.4296, train_acc: 0.8294, test_acc: 0.8333\n",
      "Epoch: 079, train_loss: 0.4201, train_acc: 0.8294, test_acc: 0.8333\n",
      "Epoch: 080, train_loss: 0.4291, train_acc: 0.8412, test_acc: 0.8333\n",
      "Epoch: 081, train_loss: 0.4208, train_acc: 0.8294, test_acc: 0.8333\n",
      "Epoch: 082, train_loss: 0.4216, train_acc: 0.8471, test_acc: 0.8333\n",
      "Epoch: 083, train_loss: 0.4188, train_acc: 0.8471, test_acc: 0.8333\n",
      "Epoch: 084, train_loss: 0.4252, train_acc: 0.8412, test_acc: 0.8333\n",
      "Epoch: 085, train_loss: 0.4339, train_acc: 0.8471, test_acc: 0.8333\n",
      "Epoch: 086, train_loss: 0.4292, train_acc: 0.8412, test_acc: 0.8333\n",
      "Epoch: 087, train_loss: 0.4178, train_acc: 0.8412, test_acc: 0.8333\n",
      "Epoch: 088, train_loss: 0.4221, train_acc: 0.8471, test_acc: 0.8333\n",
      "Epoch: 089, train_loss: 0.4265, train_acc: 0.8471, test_acc: 0.8333\n",
      "Epoch: 090, train_loss: 0.4231, train_acc: 0.8471, test_acc: 0.8333\n",
      "Epoch: 091, train_loss: 0.4244, train_acc: 0.8471, test_acc: 0.8333\n",
      "Epoch: 092, train_loss: 0.4061, train_acc: 0.8471, test_acc: 0.8333\n",
      "Epoch: 093, train_loss: 0.4046, train_acc: 0.8412, test_acc: 0.8333\n",
      "Epoch: 094, train_loss: 0.4245, train_acc: 0.8412, test_acc: 0.8333\n",
      "Epoch: 095, train_loss: 0.4183, train_acc: 0.8471, test_acc: 0.8333\n",
      "Epoch: 096, train_loss: 0.4105, train_acc: 0.8412, test_acc: 0.8333\n",
      "Epoch: 097, train_loss: 0.4295, train_acc: 0.8471, test_acc: 0.8333\n",
      "Epoch: 098, train_loss: 0.4205, train_acc: 0.8471, test_acc: 0.8333\n",
      "Epoch: 099, train_loss: 0.4102, train_acc: 0.8471, test_acc: 0.8333\n",
      "Epoch: 100, train_loss: 0.4127, train_acc: 0.8471, test_acc: 0.8333\n"
     ]
    }
   ],
   "source": [
    "from sklearn.metrics import accuracy_score\n",
    "\n",
    "def train(model, optimizer, dataloader, device):\n",
    "    model.train()\n",
    "\n",
    "    total_loss = 0\n",
    "    for data in dataloader:\n",
    "        data = data.to(device)\n",
    "        optimizer.zero_grad()\n",
    "        loss = model.get_loss(data)\n",
    "        loss.backward()\n",
    "        total_loss += data.num_graphs * loss.item()\n",
    "        optimizer.step()\n",
    "        \n",
    "    return total_loss / len(train_dataset)\n",
    "\n",
    "def test(model, dataloader, device):\n",
    "    model.eval()\n",
    "\n",
    "    predictions = []\n",
    "    labels = []\n",
    "\n",
    "    with torch.no_grad():\n",
    "        for data in dataloader:\n",
    "\n",
    "            data = data.to(device)\n",
    "            pred = model.predict(data).detach().cpu().numpy()\n",
    "\n",
    "            label = data.y.detach().cpu().numpy()\n",
    "            predictions.extend(pred)\n",
    "            labels.extend(label)\n",
    "    total_acc = accuracy_score(predictions, labels)\n",
    "    return total_acc\n",
    "    \n",
    "\n",
    "model_config = {}\n",
    "model_config[\"input_dim\"] = 7\n",
    "model_config[\"hidden_dim\"] = 32\n",
    "model_config[\"output_dim\"] = 32\n",
    "model_config[\"n_class\"] = 2\n",
    "model_config[\"c_u\"] = 1\n",
    "model_config[\"c_sigma\"] = 2\n",
    "model_config[\"num_layers\"] = 2\n",
    "learning_rate = 0.001\n",
    "epochs = 100\n",
    "\n",
    "model = GNNClassifier(model_config)\n",
    "optimizer = torch.optim.SGD(model.parameters(), lr=learning_rate)\n",
    "\n",
    "model = model.to(device)\n",
    "for epoch in range(1, epochs + 1):\n",
    "    train_loss = train(model, optimizer, train_dataloader, device)\n",
    "    train_acc = test(model, train_dataloader, device)\n",
    "    test_acc = test(model, test_dataloader, device)\n",
    "    print('Epoch: {:03d}, train_loss: {:.4f}, train_acc: {:.4f}, test_acc: {:.4f}'.format(epoch, train_loss, train_acc, test_acc))\n",
    "    "
   ]
  },
  {
   "cell_type": "code",
   "execution_count": 47,
   "id": "8a884a28",
   "metadata": {},
   "outputs": [
    {
     "name": "stdout",
     "output_type": "stream",
     "text": [
      "blocks.0.fc.weight : torch.Size([32, 7])\n",
      "blocks.0.fc.bias : torch.Size([32])\n",
      "blocks.1.fc.weight : torch.Size([32, 32])\n",
      "blocks.1.fc.bias : torch.Size([32])\n",
      "mlp.weight : torch.Size([2, 32])\n",
      "mlp.bias : torch.Size([2])\n"
     ]
    }
   ],
   "source": [
    "for name, parameters in model.named_parameters():\n",
    "    print(name, ':', parameters.size())"
   ]
  },
  {
   "cell_type": "code",
   "execution_count": null,
   "id": "138b5377",
   "metadata": {},
   "outputs": [],
   "source": []
  }
 ],
 "metadata": {
  "kernelspec": {
   "display_name": "Python 3 (ipykernel)",
   "language": "python",
   "name": "python3"
  },
  "language_info": {
   "codemirror_mode": {
    "name": "ipython",
    "version": 3
   },
   "file_extension": ".py",
   "mimetype": "text/x-python",
   "name": "python",
   "nbconvert_exporter": "python",
   "pygments_lexer": "ipython3",
   "version": "3.9.7"
  }
 },
 "nbformat": 4,
 "nbformat_minor": 5
}