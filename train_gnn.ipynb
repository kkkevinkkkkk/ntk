{
 "cells": [
  {
   "cell_type": "code",
   "execution_count": 1,
   "id": "1cc975e2",
   "metadata": {},
   "outputs": [],
   "source": [
    "%load_ext autoreload\n",
    "%autoreload 2"
   ]
  },
  {
   "cell_type": "code",
   "execution_count": 8,
   "id": "b23539c6",
   "metadata": {},
   "outputs": [],
   "source": [
    "from models import GNNClassifier\n",
    "import torch\n",
    "import numpy as np\n",
    "import util\n",
    "import scipy"
   ]
  },
  {
   "cell_type": "code",
   "execution_count": 9,
   "id": "a93e4043",
   "metadata": {},
   "outputs": [],
   "source": [
    "random_state = 1\n",
    "max_epoch = 100\n",
    "batch_size = 100\n",
    "max_dim = 40\n",
    "batch_size = 64\n",
    "\n",
    "model_config = {}\n",
    "model_config[\"input_dim\"] = max_dim\n",
    "model_config[\"hidden_dim\"] = 64\n",
    "model_config[\"output_dim\"] = 64\n",
    "model_config[\"n_class\"] = 2\n",
    "model_config[\"c_u\"] = 1\n",
    "model_config[\"c_sigma\"] = 2\n",
    "\n",
    "torch.manual_seed(random_state)\n",
    "# torch.cuda.manual_seed(random_state)\n",
    "np.random.seed(random_state)"
   ]
  },
  {
   "cell_type": "code",
   "execution_count": 4,
   "id": "e0e666e0",
   "metadata": {},
   "outputs": [
    {
     "name": "stdout",
     "output_type": "stream",
     "text": [
      "loading data\n",
      "# classes: 2\n",
      "# maximum node tag: 37\n",
      "# data: 4110\n"
     ]
    }
   ],
   "source": [
    "dataset_name = 'NCI1'\n",
    "degree_as_tag = False\n",
    "graphs, _  = util.load_data(dataset_name, degree_as_tag)\n",
    "labels = np.array([g.label for g in graphs]).astype(int)"
   ]
  },
  {
   "cell_type": "code",
   "execution_count": 24,
   "id": "cd426d4c",
   "metadata": {},
   "outputs": [
    {
     "data": {
      "text/plain": [
       "[[7],\n",
       " [7],\n",
       " [9],\n",
       " [9],\n",
       " [19],\n",
       " [6, 10],\n",
       " [5, 16],\n",
       " [0, 1, 11],\n",
       " [16, 17],\n",
       " [2, 3, 14],\n",
       " [5, 11, 12],\n",
       " [7, 10, 13],\n",
       " [10, 15],\n",
       " [11, 14],\n",
       " [9, 13, 15],\n",
       " [14, 12],\n",
       " [6, 8, 18],\n",
       " [19, 8],\n",
       " [16],\n",
       " [4, 17, 20],\n",
       " [19]]"
      ]
     },
     "execution_count": 24,
     "metadata": {},
     "output_type": "execute_result"
    }
   ],
   "source": [
    "graphs[0].neighbors"
   ]
  },
  {
   "cell_type": "code",
   "execution_count": 5,
   "id": "33126f58",
   "metadata": {},
   "outputs": [
    {
     "name": "stdout",
     "output_type": "stream",
     "text": [
      "Help on S2VGraph in module util object:\n",
      "\n",
      "class S2VGraph(builtins.object)\n",
      " |  S2VGraph(g, label, node_tags=None, node_features=None)\n",
      " |  \n",
      " |  Methods defined here:\n",
      " |  \n",
      " |  __init__(self, g, label, node_tags=None, node_features=None)\n",
      " |      g: a networkx graph\n",
      " |      label: an integer graph label\n",
      " |      node_tags: a list of integer node tags\n",
      " |      node_features: a numpy float tensor, one-hot representation of the tag that is used as input to neural nets\n",
      " |      neighbors: list of neighbors (without self-loop)\n",
      " |  \n",
      " |  ----------------------------------------------------------------------\n",
      " |  Data descriptors defined here:\n",
      " |  \n",
      " |  __dict__\n",
      " |      dictionary for instance variables (if defined)\n",
      " |  \n",
      " |  __weakref__\n",
      " |      list of weak references to the object (if defined)\n",
      "\n"
     ]
    }
   ],
   "source": [
    "help(graphs[0])"
   ]
  },
  {
   "cell_type": "code",
   "execution_count": 6,
   "id": "efe22634",
   "metadata": {},
   "outputs": [
    {
     "name": "stdout",
     "output_type": "stream",
     "text": [
      "3699\n"
     ]
    }
   ],
   "source": [
    "from torch.utils.data import TensorDataset, DataLoader\n",
    "import torch.nn.functional as F\n",
    "from sklearn.model_selection import train_test_split\n",
    "\n",
    "\n",
    "input_features = []\n",
    "labels = []\n",
    "for g in graphs:\n",
    "    x = torch.tensor(g.node_features)\n",
    "    x = F.pad(input=x, pad=(0, 0, 0, max_dim-x.shape[0]), mode='constant', value=0)\n",
    "    input_features.append(x)\n",
    "    labels.append(g.label)\n",
    "\n",
    "input_features = torch.stack(input_features)\n",
    "labels = torch.tensor(labels)\n",
    "dataset = TensorDataset(input_features, labels)\n",
    "train_dataset, test_dataset = train_test_split(dataset, test_size=0.1, random_state=random_state)\n",
    "print(len(train_dataset))\n",
    "train_dataloader = DataLoader(train_dataset,batch_size=batch_size)\n",
    "test_dataloader = DataLoader(test_dataset,batch_size=batch_size)"
   ]
  },
  {
   "cell_type": "code",
   "execution_count": 38,
   "id": "03a5cf24",
   "metadata": {},
   "outputs": [
    {
     "name": "stdout",
     "output_type": "stream",
     "text": [
      "Collecting torch_geometric\n",
      "  Downloading torch_geometric-2.0.4.tar.gz (407 kB)\n",
      "\u001B[K     |████████████████████████████████| 407 kB 736 kB/s eta 0:00:01\n",
      "\u001B[?25hRequirement already satisfied: tqdm in /Users/k/opt/anaconda3/lib/python3.9/site-packages (from torch_geometric) (4.62.3)\n",
      "Requirement already satisfied: numpy in /Users/k/opt/anaconda3/lib/python3.9/site-packages (from torch_geometric) (1.20.3)\n",
      "Requirement already satisfied: scipy in /Users/k/opt/anaconda3/lib/python3.9/site-packages (from torch_geometric) (1.7.1)\n",
      "Requirement already satisfied: pandas in /Users/k/opt/anaconda3/lib/python3.9/site-packages (from torch_geometric) (1.3.4)\n",
      "Requirement already satisfied: jinja2 in /Users/k/opt/anaconda3/lib/python3.9/site-packages (from torch_geometric) (2.11.3)\n",
      "Requirement already satisfied: requests in /Users/k/opt/anaconda3/lib/python3.9/site-packages (from torch_geometric) (2.26.0)\n",
      "Requirement already satisfied: pyparsing in /Users/k/opt/anaconda3/lib/python3.9/site-packages (from torch_geometric) (3.0.4)\n",
      "Requirement already satisfied: scikit-learn in /Users/k/opt/anaconda3/lib/python3.9/site-packages (from torch_geometric) (0.24.2)\n",
      "Requirement already satisfied: MarkupSafe>=0.23 in /Users/k/opt/anaconda3/lib/python3.9/site-packages (from jinja2->torch_geometric) (1.1.1)\n",
      "Requirement already satisfied: python-dateutil>=2.7.3 in /Users/k/opt/anaconda3/lib/python3.9/site-packages (from pandas->torch_geometric) (2.8.2)\n",
      "Requirement already satisfied: pytz>=2017.3 in /Users/k/opt/anaconda3/lib/python3.9/site-packages (from pandas->torch_geometric) (2021.3)\n",
      "Requirement already satisfied: six>=1.5 in /Users/k/opt/anaconda3/lib/python3.9/site-packages (from python-dateutil>=2.7.3->pandas->torch_geometric) (1.16.0)\n",
      "Requirement already satisfied: idna<4,>=2.5 in /Users/k/opt/anaconda3/lib/python3.9/site-packages (from requests->torch_geometric) (3.2)\n",
      "Requirement already satisfied: charset-normalizer~=2.0.0 in /Users/k/opt/anaconda3/lib/python3.9/site-packages (from requests->torch_geometric) (2.0.4)\n",
      "Requirement already satisfied: urllib3<1.27,>=1.21.1 in /Users/k/opt/anaconda3/lib/python3.9/site-packages (from requests->torch_geometric) (1.26.7)\n",
      "Requirement already satisfied: certifi>=2017.4.17 in /Users/k/opt/anaconda3/lib/python3.9/site-packages (from requests->torch_geometric) (2021.10.8)\n",
      "Requirement already satisfied: joblib>=0.11 in /Users/k/opt/anaconda3/lib/python3.9/site-packages (from scikit-learn->torch_geometric) (1.1.0)\n",
      "Requirement already satisfied: threadpoolctl>=2.0.0 in /Users/k/opt/anaconda3/lib/python3.9/site-packages (from scikit-learn->torch_geometric) (2.2.0)\n",
      "Building wheels for collected packages: torch-geometric\n",
      "  Building wheel for torch-geometric (setup.py) ... \u001B[?25ldone\n",
      "\u001B[?25h  Created wheel for torch-geometric: filename=torch_geometric-2.0.4-py3-none-any.whl size=616603 sha256=4d7fb2a84044fabc8009e4e0eddc04ae48e2e5780b9ce28fe116fe3f08fde116\n",
      "  Stored in directory: /Users/k/Library/Caches/pip/wheels/ba/44/59/28a61b516dbc37ed93285752c61c2cf1724ba0a0dada6c1150\n",
      "Successfully built torch-geometric\n",
      "Installing collected packages: torch-geometric\n",
      "Successfully installed torch-geometric-2.0.4\n"
     ]
    }
   ],
   "source": [
    "!pip install torch_geometric"
   ]
  },
  {
   "cell_type": "code",
   "execution_count": 40,
   "id": "8bfc6650",
   "metadata": {},
   "outputs": [
    {
     "ename": "ModuleNotFoundError",
     "evalue": "No module named 'torch_sparse'",
     "output_type": "error",
     "traceback": [
      "\u001B[0;31m---------------------------------------------------------------------------\u001B[0m",
      "\u001B[0;31mModuleNotFoundError\u001B[0m                       Traceback (most recent call last)",
      "\u001B[0;32m/var/folders/qh/3jndncm93jb1gybw7l3jf2p80000gn/T/ipykernel_38147/2880418832.py\u001B[0m in \u001B[0;36m<module>\u001B[0;34m\u001B[0m\n\u001B[0;32m----> 1\u001B[0;31m \u001B[0;32mfrom\u001B[0m \u001B[0mtorch_geometric\u001B[0m\u001B[0;34m.\u001B[0m\u001B[0mdatasets\u001B[0m \u001B[0;32mimport\u001B[0m \u001B[0mTUDataset\u001B[0m\u001B[0;34m\u001B[0m\u001B[0;34m\u001B[0m\u001B[0m\n\u001B[0m\u001B[1;32m      2\u001B[0m \u001B[0;32mimport\u001B[0m \u001B[0mos\u001B[0m\u001B[0;34m\u001B[0m\u001B[0;34m\u001B[0m\u001B[0m\n\u001B[1;32m      3\u001B[0m \u001B[0mpath\u001B[0m \u001B[0;34m=\u001B[0m \u001B[0mos\u001B[0m\u001B[0;34m.\u001B[0m\u001B[0mpath\u001B[0m\u001B[0;34m.\u001B[0m\u001B[0mjoin\u001B[0m\u001B[0;34m(\u001B[0m\u001B[0;34m'./'\u001B[0m\u001B[0;34m,\u001B[0m \u001B[0;34m'data'\u001B[0m\u001B[0;34m,\u001B[0m \u001B[0;34m'TU'\u001B[0m\u001B[0;34m)\u001B[0m\u001B[0;34m\u001B[0m\u001B[0;34m\u001B[0m\u001B[0m\n\u001B[1;32m      4\u001B[0m \u001B[0mdataset\u001B[0m \u001B[0;34m=\u001B[0m \u001B[0mTUDataset\u001B[0m\u001B[0;34m(\u001B[0m\u001B[0mpath\u001B[0m\u001B[0;34m,\u001B[0m \u001B[0mname\u001B[0m\u001B[0;34m=\u001B[0m\u001B[0;34m'MUTAG'\u001B[0m\u001B[0;34m)\u001B[0m\u001B[0;34m.\u001B[0m\u001B[0mshuffle\u001B[0m\u001B[0;34m(\u001B[0m\u001B[0;34m)\u001B[0m\u001B[0;34m\u001B[0m\u001B[0;34m\u001B[0m\u001B[0m\n\u001B[1;32m      5\u001B[0m \u001B[0mtest_dataset\u001B[0m \u001B[0;34m=\u001B[0m \u001B[0mdataset\u001B[0m\u001B[0;34m[\u001B[0m\u001B[0;34m:\u001B[0m\u001B[0mlen\u001B[0m\u001B[0;34m(\u001B[0m\u001B[0mdataset\u001B[0m\u001B[0;34m)\u001B[0m \u001B[0;34m//\u001B[0m \u001B[0;36m10\u001B[0m\u001B[0;34m]\u001B[0m\u001B[0;34m\u001B[0m\u001B[0;34m\u001B[0m\u001B[0m\n",
      "\u001B[0;32m~/opt/anaconda3/lib/python3.9/site-packages/torch_geometric/__init__.py\u001B[0m in \u001B[0;36m<module>\u001B[0;34m\u001B[0m\n\u001B[1;32m      2\u001B[0m \u001B[0;32mfrom\u001B[0m \u001B[0mimportlib\u001B[0m \u001B[0;32mimport\u001B[0m \u001B[0mimport_module\u001B[0m\u001B[0;34m\u001B[0m\u001B[0;34m\u001B[0m\u001B[0m\n\u001B[1;32m      3\u001B[0m \u001B[0;34m\u001B[0m\u001B[0m\n\u001B[0;32m----> 4\u001B[0;31m \u001B[0;32mimport\u001B[0m \u001B[0mtorch_geometric\u001B[0m\u001B[0;34m.\u001B[0m\u001B[0mdata\u001B[0m\u001B[0;34m\u001B[0m\u001B[0;34m\u001B[0m\u001B[0m\n\u001B[0m\u001B[1;32m      5\u001B[0m \u001B[0;32mimport\u001B[0m \u001B[0mtorch_geometric\u001B[0m\u001B[0;34m.\u001B[0m\u001B[0mloader\u001B[0m\u001B[0;34m\u001B[0m\u001B[0;34m\u001B[0m\u001B[0m\n\u001B[1;32m      6\u001B[0m \u001B[0;32mimport\u001B[0m \u001B[0mtorch_geometric\u001B[0m\u001B[0;34m.\u001B[0m\u001B[0mtransforms\u001B[0m\u001B[0;34m\u001B[0m\u001B[0;34m\u001B[0m\u001B[0m\n",
      "\u001B[0;32m~/opt/anaconda3/lib/python3.9/site-packages/torch_geometric/data/__init__.py\u001B[0m in \u001B[0;36m<module>\u001B[0;34m\u001B[0m\n\u001B[0;32m----> 1\u001B[0;31m \u001B[0;32mfrom\u001B[0m \u001B[0;34m.\u001B[0m\u001B[0mdata\u001B[0m \u001B[0;32mimport\u001B[0m \u001B[0mData\u001B[0m\u001B[0;34m\u001B[0m\u001B[0;34m\u001B[0m\u001B[0m\n\u001B[0m\u001B[1;32m      2\u001B[0m \u001B[0;32mfrom\u001B[0m \u001B[0;34m.\u001B[0m\u001B[0mhetero_data\u001B[0m \u001B[0;32mimport\u001B[0m \u001B[0mHeteroData\u001B[0m\u001B[0;34m\u001B[0m\u001B[0;34m\u001B[0m\u001B[0m\n\u001B[1;32m      3\u001B[0m \u001B[0;32mfrom\u001B[0m \u001B[0;34m.\u001B[0m\u001B[0mtemporal\u001B[0m \u001B[0;32mimport\u001B[0m \u001B[0mTemporalData\u001B[0m\u001B[0;34m\u001B[0m\u001B[0;34m\u001B[0m\u001B[0m\n\u001B[1;32m      4\u001B[0m \u001B[0;32mfrom\u001B[0m \u001B[0;34m.\u001B[0m\u001B[0mbatch\u001B[0m \u001B[0;32mimport\u001B[0m \u001B[0mBatch\u001B[0m\u001B[0;34m\u001B[0m\u001B[0;34m\u001B[0m\u001B[0m\n\u001B[1;32m      5\u001B[0m \u001B[0;32mfrom\u001B[0m \u001B[0;34m.\u001B[0m\u001B[0mdataset\u001B[0m \u001B[0;32mimport\u001B[0m \u001B[0mDataset\u001B[0m\u001B[0;34m\u001B[0m\u001B[0;34m\u001B[0m\u001B[0m\n",
      "\u001B[0;32m~/opt/anaconda3/lib/python3.9/site-packages/torch_geometric/data/data.py\u001B[0m in \u001B[0;36m<module>\u001B[0;34m\u001B[0m\n\u001B[1;32m      7\u001B[0m \u001B[0;32mimport\u001B[0m \u001B[0mtorch\u001B[0m\u001B[0;34m\u001B[0m\u001B[0;34m\u001B[0m\u001B[0m\n\u001B[1;32m      8\u001B[0m \u001B[0;32mfrom\u001B[0m \u001B[0mtorch\u001B[0m \u001B[0;32mimport\u001B[0m \u001B[0mTensor\u001B[0m\u001B[0;34m\u001B[0m\u001B[0;34m\u001B[0m\u001B[0m\n\u001B[0;32m----> 9\u001B[0;31m \u001B[0;32mfrom\u001B[0m \u001B[0mtorch_sparse\u001B[0m \u001B[0;32mimport\u001B[0m \u001B[0mSparseTensor\u001B[0m\u001B[0;34m\u001B[0m\u001B[0;34m\u001B[0m\u001B[0m\n\u001B[0m\u001B[1;32m     10\u001B[0m \u001B[0;34m\u001B[0m\u001B[0m\n\u001B[1;32m     11\u001B[0m from torch_geometric.data.storage import (BaseStorage, EdgeStorage,\n",
      "\u001B[0;31mModuleNotFoundError\u001B[0m: No module named 'torch_sparse'"
     ]
    }
   ],
   "source": [
    "from torch_geometric.datasets import TUDataset\n",
    "import os\n",
    "path = os.path.join('./', 'data', 'TU')\n",
    "dataset = TUDataset(path, name='MUTAG').shuffle()\n",
    "test_dataset = dataset[:len(dataset) // 10]\n",
    "train_dataset = dataset[len(dataset) // 10:]\n",
    "test_loader = DataLoader(test_dataset, batch_size=128)\n",
    "train_loader = DataLoader(train_dataset, batch_size=2)"
   ]
  },
  {
   "cell_type": "code",
   "execution_count": null,
   "id": "a80a3119",
   "metadata": {},
   "outputs": [
    {
     "name": "stdout",
     "output_type": "stream",
     "text": [
      "Collecting torch_sparse\n",
      "  Downloading torch_sparse-0.6.13.tar.gz (48 kB)\n",
      "\u001B[K     |████████████████████████████████| 48 kB 174 kB/s eta 0:00:011\n",
      "\u001B[?25hRequirement already satisfied: scipy in /Users/k/opt/anaconda3/lib/python3.9/site-packages (from torch_sparse) (1.7.1)\n",
      "Requirement already satisfied: numpy<1.23.0,>=1.16.5 in /Users/k/opt/anaconda3/lib/python3.9/site-packages (from scipy->torch_sparse) (1.20.3)\n",
      "Building wheels for collected packages: torch-sparse\n",
      "  Building wheel for torch-sparse (setup.py) ... \u001B[?25l\\"
     ]
    }
   ],
   "source": [
    "!pip install torch_sparse"
   ]
  },
  {
   "cell_type": "code",
   "execution_count": 7,
   "id": "b70734ed",
   "metadata": {},
   "outputs": [
    {
     "ename": "NameError",
     "evalue": "name 'epochs' is not defined",
     "output_type": "error",
     "traceback": [
      "\u001B[0;31m---------------------------------------------------------------------------\u001B[0m",
      "\u001B[0;31mNameError\u001B[0m                                 Traceback (most recent call last)",
      "\u001B[0;32m/var/folders/qh/3jndncm93jb1gybw7l3jf2p80000gn/T/ipykernel_38147/1051794514.py\u001B[0m in \u001B[0;36m<module>\u001B[0;34m\u001B[0m\n\u001B[1;32m     31\u001B[0m     \u001B[0;32mreturn\u001B[0m \u001B[0mtotal_acc\u001B[0m\u001B[0;34m\u001B[0m\u001B[0;34m\u001B[0m\u001B[0m\n\u001B[1;32m     32\u001B[0m \u001B[0;34m\u001B[0m\u001B[0m\n\u001B[0;32m---> 33\u001B[0;31m \u001B[0;32mfor\u001B[0m \u001B[0mepoch\u001B[0m \u001B[0;32min\u001B[0m \u001B[0mrange\u001B[0m\u001B[0;34m(\u001B[0m\u001B[0;36m1\u001B[0m\u001B[0;34m,\u001B[0m \u001B[0mepochs\u001B[0m \u001B[0;34m+\u001B[0m \u001B[0;36m1\u001B[0m\u001B[0;34m)\u001B[0m\u001B[0;34m:\u001B[0m\u001B[0;34m\u001B[0m\u001B[0;34m\u001B[0m\u001B[0m\n\u001B[0m\u001B[1;32m     34\u001B[0m     \u001B[0mtrain_loss\u001B[0m \u001B[0;34m=\u001B[0m \u001B[0mtrain\u001B[0m\u001B[0;34m(\u001B[0m\u001B[0mmodel\u001B[0m\u001B[0;34m,\u001B[0m \u001B[0moptimizer\u001B[0m\u001B[0;34m,\u001B[0m \u001B[0mdataloader\u001B[0m\u001B[0;34m)\u001B[0m\u001B[0;34m\u001B[0m\u001B[0;34m\u001B[0m\u001B[0m\n\u001B[1;32m     35\u001B[0m     \u001B[0mtest_acc\u001B[0m \u001B[0;34m=\u001B[0m \u001B[0mtest\u001B[0m\u001B[0;34m(\u001B[0m\u001B[0mdata\u001B[0m\u001B[0;34m.\u001B[0m\u001B[0mtest_pos_edge_index\u001B[0m\u001B[0;34m,\u001B[0m \u001B[0mdata\u001B[0m\u001B[0;34m.\u001B[0m\u001B[0mtest_neg_edge_index\u001B[0m\u001B[0;34m)\u001B[0m\u001B[0;34m\u001B[0m\u001B[0;34m\u001B[0m\u001B[0m\n",
      "\u001B[0;31mNameError\u001B[0m: name 'epochs' is not defined"
     ]
    }
   ],
   "source": [
    "from sklearn.metrics import accuracy_score\n",
    "\n",
    "def train(model, optimizer, dataloader):\n",
    "    model.train()\n",
    "    total_loss = 0\n",
    "    for batch in dataloader:\n",
    "        inputs = batch[0]\n",
    "        targets = batch[1]\n",
    "        optimizer.zero_grad()\n",
    "        loss = model.get_loss(inputs, targets)\n",
    "        loss.backward()\n",
    "        optimizer.step()\n",
    "        total_loss += loss.item() \n",
    "    return\n",
    "\n",
    "\n",
    "def test(model, dataloader):\n",
    "    model.eval()\n",
    "    total_acc = 0\n",
    "\n",
    "    with torch.no_grad():\n",
    "        for batch in dataloader:\n",
    "            inputs = batch[0]\n",
    "            targets = batch[1]\n",
    "            predictions = model.predict(inputs, targets)\n",
    "            acc = accuracy_score(predictions, targets)\n",
    "            total_acc += acc\n",
    "    \n",
    "    total_acc /= len(dataloader)\n",
    "            \n",
    "    return total_acc\n",
    "\n",
    "learning_rate = 0.001\n",
    "model = GNNClassifier(model_config)\n",
    "optimizer = torch.optim.SGD(model.parameters(), lr=learning_rate)\n",
    "for epoch in range(1, epochs + 1):\n",
    "    train_loss = train(model, optimizer, dataloader)\n",
    "    test_acc = test(data.test_pos_edge_index, data.test_neg_edge_index)\n",
    "    print('Epoch: {:03d}, train_loss: {:.4f}, test_acc: {:.4f}'.format(epoch, trin_loss, test_acc))\n",
    "    "
   ]
  },
  {
   "cell_type": "code",
   "execution_count": 33,
   "id": "43644a58",
   "metadata": {},
   "outputs": [],
   "source": [
    "import torch\n",
    "inputs = torch.tensor([[1,2,3,4],[5,6,7,8],[9,10,11,12]])\n",
    "inputs = inputs.unsqueeze(0)\n",
    "neighbors_index = [[0,1],[1,2],[2,1]]\n",
    "neighbors_index = torch.tensor(neighbors_index)"
   ]
  },
  {
   "cell_type": "code",
   "execution_count": 26,
   "id": "d3e009bb",
   "metadata": {},
   "outputs": [
    {
     "data": {
      "text/plain": [
       "torch.Size([1, 3, 4])"
      ]
     },
     "execution_count": 26,
     "metadata": {},
     "output_type": "execute_result"
    }
   ],
   "source": [
    "inputs.shape"
   ]
  },
  {
   "cell_type": "code",
   "execution_count": 34,
   "id": "fb98ab65",
   "metadata": {},
   "outputs": [
    {
     "ename": "TypeError",
     "evalue": "scatter_add() received an invalid combination of arguments - got (Tensor, dim=int, index=Tensor), but expected one of:\n * (Tensor input, int dim, Tensor index, Tensor src, *, Tensor out)\n * (Tensor input, name dim, Tensor index, Tensor src)\n",
     "output_type": "error",
     "traceback": [
      "\u001B[0;31m---------------------------------------------------------------------------\u001B[0m",
      "\u001B[0;31mTypeError\u001B[0m                                 Traceback (most recent call last)",
      "\u001B[0;32m/var/folders/qh/3jndncm93jb1gybw7l3jf2p80000gn/T/ipykernel_38147/31686402.py\u001B[0m in \u001B[0;36m<module>\u001B[0;34m\u001B[0m\n\u001B[0;32m----> 1\u001B[0;31m \u001B[0mtorch\u001B[0m\u001B[0;34m.\u001B[0m\u001B[0mscatter_add\u001B[0m\u001B[0;34m(\u001B[0m\u001B[0minputs\u001B[0m\u001B[0;34m,\u001B[0m\u001B[0mindex\u001B[0m \u001B[0;34m=\u001B[0m \u001B[0mneighbors_index\u001B[0m\u001B[0;34m,\u001B[0m \u001B[0mdim\u001B[0m\u001B[0;34m=\u001B[0m\u001B[0;36m1\u001B[0m\u001B[0;34m)\u001B[0m\u001B[0;34m\u001B[0m\u001B[0;34m\u001B[0m\u001B[0m\n\u001B[0m",
      "\u001B[0;31mTypeError\u001B[0m: scatter_add() received an invalid combination of arguments - got (Tensor, dim=int, index=Tensor), but expected one of:\n * (Tensor input, int dim, Tensor index, Tensor src, *, Tensor out)\n * (Tensor input, name dim, Tensor index, Tensor src)\n"
     ]
    }
   ],
   "source": [
    "torch.scatter_add(inputs,index = neighbors_index, dim=1)"
   ]
  },
  {
   "cell_type": "code",
   "execution_count": 36,
   "id": "6add51d9",
   "metadata": {},
   "outputs": [
    {
     "name": "stdout",
     "output_type": "stream",
     "text": [
      "Collecting torch_scatter\n",
      "  Using cached torch_scatter-2.0.9.tar.gz (21 kB)\n",
      "Building wheels for collected packages: torch-scatter\n",
      "  Building wheel for torch-scatter (setup.py) ... \u001B[?25ldone\n",
      "\u001B[?25h  Created wheel for torch-scatter: filename=torch_scatter-2.0.9-cp39-cp39-macosx_10_9_x86_64.whl size=290315 sha256=6841d50cecac01cc27204c17d69cd171901504f3e0b83625d83ace1ab8d22899\n",
      "  Stored in directory: /Users/k/Library/Caches/pip/wheels/0f/60/0a/78e62f3c2b8055590441b1cb389eb274e3740d8d7462c7abd8\n",
      "Successfully built torch-scatter\n",
      "Installing collected packages: torch-scatter\n",
      "Successfully installed torch-scatter-2.0.9\n"
     ]
    }
   ],
   "source": [
    "!pip install torch_scatter"
   ]
  },
  {
   "cell_type": "code",
   "execution_count": null,
   "id": "cd0d6cdd",
   "metadata": {},
   "outputs": [],
   "source": []
  }
 ],
 "metadata": {
  "kernelspec": {
   "display_name": "Python 3 (ipykernel)",
   "language": "python",
   "name": "python3"
  },
  "language_info": {
   "codemirror_mode": {
    "name": "ipython",
    "version": 3
   },
   "file_extension": ".py",
   "mimetype": "text/x-python",
   "name": "python",
   "nbconvert_exporter": "python",
   "pygments_lexer": "ipython3",
   "version": "3.9.7"
  }
 },
 "nbformat": 4,
 "nbformat_minor": 5
}